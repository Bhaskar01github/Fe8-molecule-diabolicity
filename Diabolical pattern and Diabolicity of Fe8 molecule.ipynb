{
 "cells": [
  {
   "cell_type": "markdown",
   "id": "aed30572",
   "metadata": {},
   "source": [
    "# Diabolicity of Fe8 molecule"
   ]
  },
  {
   "cell_type": "code",
   "execution_count": 1,
   "id": "515d40e1",
   "metadata": {},
   "outputs": [],
   "source": [
    "import numpy as np\n",
    "import matplotlib.pyplot as plt"
   ]
  },
  {
   "cell_type": "code",
   "execution_count": 2,
   "id": "38406e38",
   "metadata": {},
   "outputs": [],
   "source": [
    "j=7/2\n",
    "m0=np.arange(-j,j,1)\n",
    "n0=np.arange(-j,j,1)"
   ]
  },
  {
   "cell_type": "code",
   "execution_count": 3,
   "id": "78e85327",
   "metadata": {
    "scrolled": true
   },
   "outputs": [
    {
     "data": {
      "text/plain": [
       "array([-3.5, -2.5, -1.5, -0.5,  0.5,  1.5,  2.5])"
      ]
     },
     "execution_count": 3,
     "metadata": {},
     "output_type": "execute_result"
    }
   ],
   "source": [
    "m0"
   ]
  },
  {
   "cell_type": "markdown",
   "id": "89006e8f",
   "metadata": {
    "scrolled": true
   },
   "source": [
    "# Plotting the diabolical points pattern and their diabolicity"
   ]
  },
  {
   "cell_type": "code",
   "execution_count": 5,
   "id": "47c072be",
   "metadata": {},
   "outputs": [
    {
     "data": {
      "text/plain": [
       "Text(0, 0.5, 'Hz')"
      ]
     },
     "execution_count": 5,
     "metadata": {},
     "output_type": "execute_result"
    },
    {
     "data": {
      "image/png": "[encoded data removed]",
      "text/plain": [
       "<Figure size 576x432 with 1 Axes>"
      ]
     },
     "metadata": {
      "needs_background": "light"
     },
     "output_type": "display_data"
    }
   ],
   "source": [
    "\n",
    "\n",
    "j = 7/2\n",
    "m = np.arange(-j, j+1, 1)\n",
    "n = np.arange(-j, j+1, 1)\n",
    "\n",
    "\n",
    "def diabolicity(x, y):\n",
    "    count = 0\n",
    "    m1 = [i for i in m if i <= x]               #putting the conditions of m1 and m2(i.e. m1<=m0 and m2>= m0+1)\n",
    "    m2 = [i for i in m if i >= x + 1]\n",
    "    #print(m1,m2)\n",
    "    for i in m1:\n",
    "        for j in m2: \n",
    "            if (i+j == x-y):                     #here we are trying to find the solutions of m1+m2=m0-n0 and that would be our diabolicity\n",
    "                count+=1\n",
    "                \n",
    "    return count\n",
    "\n",
    "# diabolicity(x,y)\n",
    "\n",
    "diabolic1=[]\n",
    "diabolic2=[]\n",
    "diabolic3=[]\n",
    "diabolic4=[]\n",
    "for i in m0:\n",
    "    for j in n0:\n",
    "        diab=diabolicity(i,j)\n",
    "        x=-(i+j+1)\n",
    "        z=(j-i)\n",
    "        if diab==1:\n",
    "            diabolic1.append((x,z))\n",
    "            #print(diabolic1)\n",
    "        if diab==2:\n",
    "            diabolic2.append((x,z))\n",
    "# #             print(i,j,diab)\n",
    "        if diab==3:\n",
    "            diabolic3.append((x,z))\n",
    "# #             print(i,j,diab)\n",
    "        if diab==4:\n",
    "            diabolic4.append((x,z))\n",
    "# #             print(i,j,diab)    \n",
    "diabolic1 = np.array(diabolic1)\n",
    "diabolic2 = np.array(diabolic2)\n",
    "diabolic3 = np.array(diabolic3)\n",
    "diabolic4 = np.array(diabolic4)\n",
    "#print(diabolic1)\n",
    "plt.figure(figsize=(8, 6)) \n",
    "plt.scatter(diabolic1[:,0],diabolic1[:,1],label='diabolicity=1')\n",
    "plt.scatter(diabolic2[:,0],diabolic2[:,1],label='diabolicity=2')\n",
    "plt.scatter(diabolic3[:,0],diabolic3[:,1],label='diabolicity=3')\n",
    "plt.scatter(diabolic4[:,0],diabolic4[:,1],label='diabolicity=4')\n",
    "plt.legend()\n",
    "plt.grid()\n",
    "plt.xlabel('Hx')\n",
    "plt.ylabel('Hz')"
   ]
  },
  {
   "cell_type": "code",
   "execution_count": null,
   "id": "d199f7f8",
   "metadata": {},
   "outputs": [],
   "source": []
  }
 ],
 "metadata": {
  "kernelspec": {
   "display_name": "Python 3 (ipykernel)",
   "language": "python",
   "name": "python3"
  },
  "language_info": {
   "codemirror_mode": {
    "name": "ipython",
    "version": 3
   },
   "file_extension": ".py",
   "mimetype": "text/x-python",
   "name": "python",
   "nbconvert_exporter": "python",
   "pygments_lexer": "ipython3",
   "version": "3.10.5"
  }
 },
 "nbformat": 4,
 "nbformat_minor": 5
}
